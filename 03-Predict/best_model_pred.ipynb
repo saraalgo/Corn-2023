{
 "cells": [
  {
   "attachments": {},
   "cell_type": "markdown",
   "metadata": {},
   "source": [
    "# Get prediction of the best model"
   ]
  },
  {
   "attachments": {},
   "cell_type": "markdown",
   "metadata": {},
   "source": [
    "This script is aimed to obtain from the results of the best model:\n",
    "1. [Feature importance of each state model](#1.-Feature-importance-of-each-state)\n",
    "    - [Check feature importance in all states](#1.1-Check-feature-importance-over-the-threshold-in-all-states)\n",
    "    - [Plot feature importance for each state](#1.2-Save-feature-importance-for-each-state)\n",
    "    - [Plot feature importance of all at once](#1.3-Plot-all-feature-importance-training-at-once)\n",
    "2. [Predictions for 2023 and final metrics by state](#2.-Final-predictions-2023-and-metrics-by-state)"
   ]
  },
  {
   "attachments": {},
   "cell_type": "markdown",
   "metadata": {},
   "source": [
    "## Load packages"
   ]
  },
  {
   "cell_type": "code",
   "execution_count": null,
   "metadata": {},
   "outputs": [],
   "source": [
    "# Set Git path\n",
    "import os \n",
    "CURRENT_PATH = os.getcwd()\n",
    "import warnings\n",
    "\n",
    "# data manipulation\n",
    "import pandas as pd\n",
    "import numpy as np\n",
    "import pickle\n",
    "\n",
    "# plotting\n",
    "import matplotlib.pyplot as plt\n",
    "import seaborn as sns\n",
    "\n",
    "warnings.filterwarnings('ignore', category=UserWarning)\n",
    "\n",
    "# preprocessing\n",
    "from sklearn.preprocessing import MinMaxScaler\n",
    "import tensorflow as tf\n",
    "from tensorflow.keras.preprocessing.sequence import TimeseriesGenerator\n",
    "from tqdm import tqdm"
   ]
  },
  {
   "attachments": {},
   "cell_type": "markdown",
   "metadata": {},
   "source": [
    "## Load best model"
   ]
  },
  {
   "cell_type": "code",
   "execution_count": null,
   "metadata": {},
   "outputs": [],
   "source": [
    "best_data = pd.read_pickle('../01-Preprocessing/data/data.pkl')\n",
    "\n",
    "mse_tr = pd.read_pickle('../02-Model/results/best_model/res/mse_train.pkl')\n",
    "mae_tr = pd.read_pickle('../02-Model/results/best_model/res/mae_train.pkl')\n",
    "prediction2023 = pd.read_pickle('../02-Model/results/best_model/res/predictions.pkl')\n",
    "\n",
    "with open('../02-Model/results/best_model/res/model_per_state.pkl', 'rb') as f:\n",
    "    best_model = pickle.load(f)\n",
    "\n",
    "with open('../02-Model/results/best_model/res/data_per_state.pkl', 'rb') as f:\n",
    "    data_state = pickle.load(f)"
   ]
  },
  {
   "attachments": {},
   "cell_type": "markdown",
   "metadata": {},
   "source": [
    "## 1. Feature importance of each state"
   ]
  },
  {
   "cell_type": "code",
   "execution_count": null,
   "metadata": {},
   "outputs": [],
   "source": [
    "if not os.path.exists('results/feature-importance-train'):\n",
    "    os.makedirs('results/feature-importance-train')"
   ]
  },
  {
   "attachments": {},
   "cell_type": "markdown",
   "metadata": {},
   "source": [
    "Get the feature importance by the posth-hoc method of input perturbation"
   ]
  },
  {
   "cell_type": "code",
   "execution_count": null,
   "metadata": {},
   "outputs": [],
   "source": [
    "timesteps = 10\n",
    "years_to_validate = 1\n",
    "batch_size = 32\n",
    "epochs = 5000\n",
    "states = list(data_state.keys())\n",
    "np.random.seed(1995) \n",
    "\n",
    "threshold = 2 #200% over baseline\n",
    "features_best_model_tr = {}\n",
    "\n",
    "for state in states: \n",
    "\n",
    "    model = best_model[state]\n",
    "    data = data_state[state]\n",
    "\n",
    "    # Scale and divide\n",
    "    X = data.drop(['CORN - ACRES PLANTED'], axis=1)\n",
    "    scaler = MinMaxScaler()\n",
    "    scaled_X = scaler.fit_transform(X)\n",
    "    scaler_y = MinMaxScaler()\n",
    "    y = data['CORN - ACRES PLANTED']\n",
    "    scaled_y = scaler_y.fit_transform(y.values.reshape(-1, 1))\n",
    "\n",
    "    results = []\n",
    "    print(' Computing LSTM feature importance...')\n",
    "\n",
    "    # COMPUTE BASELINE (NO SHUFFLE)\n",
    "    baseline_mse = mse_tr[state]\n",
    "    results.append({'feature':'BASELINE','mse':baseline_mse})           \n",
    "\n",
    "    for k in tqdm(range(len(X.columns))):\n",
    "        \n",
    "        # SHUFFLE FEATURE K\n",
    "        save_col = scaled_X[:,k].copy()\n",
    "        np.random.shuffle(scaled_X[:,k])\n",
    "\n",
    "        # Create time series generator\n",
    "        train_generator = TimeseriesGenerator(scaled_X[:-years_to_validate], scaled_y[:-years_to_validate], length=timesteps, sampling_rate=1, batch_size=batch_size)\n",
    "                \n",
    "        # COMPUTE OOF MAE WITH FEATURE K SHUFFLED\n",
    "        score = model.evaluate(train_generator, verbose=0)\n",
    "        results.append({'feature':X.columns[k],'mse':score[0]})\n",
    "        scaled_X[:,k] = save_col\n",
    "\n",
    "    df = pd.DataFrame(results)\n",
    "    df = df.sort_values('mse')\n",
    "    features_best_model_tr[state] = df"
   ]
  },
  {
   "attachments": {},
   "cell_type": "markdown",
   "metadata": {},
   "source": [
    "### 1.1 Check feature importance over the threshold in all states"
   ]
  },
  {
   "attachments": {},
   "cell_type": "markdown",
   "metadata": {},
   "source": [
    "According with the **MSE in training**"
   ]
  },
  {
   "cell_type": "code",
   "execution_count": null,
   "metadata": {},
   "outputs": [],
   "source": [
    "# Get the features on each state that overpass the threshold\n",
    "\n",
    "over_threshold = {state: pd.DataFrame(columns=features_best_model_tr[state].columns) for state in states}\n",
    "\n",
    "for key, df in features_best_model_tr.items():\n",
    "    for index, row in df.iterrows():\n",
    "        if row['mse'] > df['mse'][0]*threshold:\n",
    "            over_threshold[key] = over_threshold[key].append(row, ignore_index=True)\n",
    "\n",
    "# Count how many times each of the features are important\n",
    "all_features = []\n",
    "for state_df in over_threshold.values():\n",
    "    all_features += list(state_df['feature'])\n",
    "unique_features = list(set(all_features))\n",
    "\n",
    "feature_counts = pd.DataFrame({'feature': unique_features})\n",
    "counts = []\n",
    "for feature in unique_features:\n",
    "    count = 0\n",
    "    for state_df in over_threshold.values():\n",
    "        if feature in list(state_df['feature']):\n",
    "            count += 1\n",
    "    counts.append(count)\n",
    "feature_counts['counts'] = counts\n",
    "\n",
    "feature_counts = feature_counts.sort_values('counts')\n",
    "\n",
    "# Define mapping function\n",
    "def color_mapper(feature):\n",
    "    if feature == list(feature_counts.feature)[-1]:\n",
    "        return '#40513B'\n",
    "    elif feature == list(feature_counts.feature)[-2]:\n",
    "        return '#609966'\n",
    "    elif feature == list(feature_counts.feature)[-3]:\n",
    "        return '#9DC08B'\n",
    "    elif feature == list(feature_counts.feature)[-4]:\n",
    "        return '#BFCCB5'\n",
    "    elif feature == list(feature_counts.feature)[-5]:\n",
    "        return '#EDF1D6'\n",
    "    else:\n",
    "        return '#D3D3D3'\n",
    "colors = list(map(color_mapper, feature_counts.feature))\n",
    "\n",
    "\n",
    "plt.figure(figsize=(20,10))\n",
    "plt.barh(y=feature_counts.feature,width=feature_counts.counts, color=colors)\n",
    "plt.title('Features over the threshold in all states', size=16)\n",
    "plt.ylim((-1,len(X.columns)))\n",
    "plt.xlabel(f'Counts of states with this feature as important',size=14)\n",
    "plt.ylabel('Feature',size=14)\n",
    "plt.legend()\n",
    "# Save the figure in the directory\n",
    "plt.savefig('results/feature-importance-all-states.png',bbox_inches='tight')\n",
    "plt.close()"
   ]
  },
  {
   "attachments": {},
   "cell_type": "markdown",
   "metadata": {},
   "source": [
    "### 1.2 Save feature importance for each state"
   ]
  },
  {
   "cell_type": "code",
   "execution_count": null,
   "metadata": {},
   "outputs": [],
   "source": [
    "# Plot only the ones that overpass the threshold and color the three top ones in general\n",
    "for state in states:\n",
    "\n",
    "    df = features_best_model_tr[state]\n",
    "    bas_state = df[df['feature'] == 'BASELINE']['mse']\n",
    "    # map colors from above\n",
    "    colors = list(map(color_mapper, df.feature))\n",
    "    if max(features_best_model_tr[state]['mse']+0.0005)>float(bas_state*threshold)+0.0005:\n",
    "        max_x = max(features_best_model_tr[state]['mse']+0.0005)\n",
    "    else:\n",
    "        max_x = float(bas_state*threshold)+0.0005\n",
    "    \n",
    "# plot them\n",
    "    plt.figure(figsize=(20,10))\n",
    "    plt.barh(y=df.feature,width=df.mse, color=colors)\n",
    "    plt.title(state, size=20)\n",
    "    plt.ylim((-1,len(best_data.columns)+1))\n",
    "    plt.xlim((0,max_x))\n",
    "    plt.plot([bas_state*threshold,bas_state*threshold],[-1,len(best_data.columns)+1], '--', color='red',\n",
    "                        label=f'Baseline * 2 \\nThreshold MSE={baseline_mse*threshold:.3f}')\n",
    "    plt.xlabel(f'MSE with feature permuted',size=14)\n",
    "    plt.legend()\n",
    "# Save the figure in the directory\n",
    "    plt.savefig(os.path.join('results/feature-importance-train/', 'MSE_fi_' + state + '.png'),bbox_inches='tight')\n",
    "    plt.close()"
   ]
  },
  {
   "attachments": {},
   "cell_type": "markdown",
   "metadata": {},
   "source": [
    "### 1.3 Plot all feature importance training at once"
   ]
  },
  {
   "cell_type": "code",
   "execution_count": null,
   "metadata": {},
   "outputs": [],
   "source": [
    "# Join all plots in one \n",
    "states_ordered_by_corn = ['KANSAS', 'TEXAS', 'IOWA', 'ILLINOIS', 'NEBRASKA', 'MINNESOTA',\n",
    "                        'MONTANA', 'MISSOURI', 'INDIANA', 'OKLAHOMA', 'OHIO', 'WISCONSIN',\n",
    "                        'CALIFORNIA', 'COLORADO', 'MICHIGAN', 'ARKANSAS', 'WASHINGTON',\n",
    "                        'MISSISSIPPI', 'GEORGIA', 'KENTUCKY', 'IDAHO', 'PENNSYLVANIA',\n",
    "                        'TENNESSEE', 'OREGON', 'LOUISIANA', 'ALABAMA', 'VIRGINIA',\n",
    "                        'FLORIDA', 'WYOMING', 'MARYLAND', 'UTAH', 'ARIZONA', 'VERMONT',\n",
    "                        'MAINE', 'NEVADA', 'DELAWARE', 'MASSACHUSETTS', 'CONNECTICUT']\n",
    "\n",
    "states_ordered_by_corn = np.concatenate((np.array(states_ordered_by_corn), np.array(list(set(states) - set(states_ordered_by_corn)))))\n",
    "\n",
    "# define subplot grid\n",
    "fig, axs = plt.subplots(8, 6, figsize=(30, 55))\n",
    "plt.subplots_adjust(hspace=0.75)\n",
    "fig.suptitle(\"Feature importance by state\", fontsize=30)\n",
    "\n",
    "f = np.array([n for n in [0,1,2,3,4,5,6,7] for i in range(6)])\n",
    "c = np.array([0,1,2,3,4,5]*8)\n",
    "\n",
    "# Loop through the states and create a subplot for each state\n",
    "for i, state in enumerate(states_ordered_by_corn):\n",
    "    # Select the data for the current state\n",
    "    df = features_best_model_tr[state]\n",
    "    bas_state = df[df['feature'] == 'BASELINE']['mse']\n",
    "    colors = list(map(color_mapper, df.feature))\n",
    "    if max(features_best_model_tr[state]['mse']+0.0005)>float(bas_state*threshold)+0.0005:\n",
    "        max_x = max(features_best_model_tr[state]['mse']+0.0005)\n",
    "    else:\n",
    "        max_x = float(bas_state*threshold)+0.0005\n",
    "\n",
    "    # Create a horizontal bar plot of the MSE values for the current state\n",
    "    axs[f[i], c[i]].barh(y=df.feature,width=df.mse, color=colors)\n",
    "    axs[f[i], c[i]].set_ylim((-1,len(best_data.columns)+1))\n",
    "    axs[f[i], c[i]].set_xlim((0,max_x))\n",
    "    axs[f[i], c[i]].plot([bas_state*threshold,bas_state*threshold],[-1,len(best_data.columns)+1], '--', color='red')\n",
    "    axs[f[i], c[i]].set_title(state, fontsize= 20)\n",
    "    axs[f[i], c[i]].set_yticklabels([])\n",
    "\n",
    "# Adjust the spacing between subplots\n",
    "fig.tight_layout()\n",
    "plt.subplots_adjust(top=0.95)\n",
    "\n",
    "# Save the figure in the directory\n",
    "plt.savefig('results/feature-importance-by-state.pdf',bbox_inches='tight')\n",
    "# Display the plot\n",
    "plt.show()\n",
    "plt.close()"
   ]
  },
  {
   "attachments": {},
   "cell_type": "markdown",
   "metadata": {},
   "source": [
    "## 2. Final predictions 2023 and metrics by state"
   ]
  },
  {
   "cell_type": "code",
   "execution_count": null,
   "metadata": {},
   "outputs": [],
   "source": [
    "prediction2023 = pd.read_pickle('../02-Model/results/best_model/res/predictions.pkl')\n",
    "pred_df = pd.DataFrame({'State': prediction2023.keys(), '2023 Corn Acres': prediction2023.values()})\n",
    "metrics_train_df = pd.DataFrame({'State': mse_tr.keys(), 'MSE train': mse_tr.values(), 'MAE train': mae_tr.values()})"
   ]
  },
  {
   "attachments": {},
   "cell_type": "markdown",
   "metadata": {},
   "source": [
    "Order dataframes"
   ]
  },
  {
   "cell_type": "code",
   "execution_count": null,
   "metadata": {},
   "outputs": [],
   "source": [
    "# order both df\n",
    "metrics_train_df = metrics_train_df.sort_values('State')\n",
    "pred_df = pred_df.sort_values('State')\n",
    "\n",
    "to_xls = {'Metrics train': metrics_train_df, 'Corn Acres in 2023 by state': pred_df}"
   ]
  },
  {
   "attachments": {},
   "cell_type": "markdown",
   "metadata": {},
   "source": [
    "Save them in one *.xlsx* file"
   ]
  },
  {
   "cell_type": "code",
   "execution_count": null,
   "metadata": {},
   "outputs": [],
   "source": [
    "writer = pd.ExcelWriter('results/best_model.xlsx', engine='xlsxwriter')\n",
    "for sheetname, df in to_xls.items():  # loop through `dict` of dataframes\n",
    "    df.to_excel(writer, sheet_name=sheetname, index=False)  # send df to writer\n",
    "    worksheet = writer.sheets[sheetname]  # pull worksheet object\n",
    "    for idx, col in enumerate(df):  # loop through all columns\n",
    "        series = df[col]\n",
    "        max_len = max((\n",
    "            series.astype(str).map(len).max(),  # len of largest item\n",
    "            len(str(series.name))  # len of column name/header\n",
    "            )) + 1  # adding a little extra space\n",
    "        worksheet.set_column(idx, idx, max_len)  # set column width\n",
    "writer.save() "
   ]
  }
 ],
 "metadata": {
  "kernelspec": {
   "display_name": "Python 3",
   "language": "python",
   "name": "python3"
  },
  "language_info": {
   "codemirror_mode": {
    "name": "ipython",
    "version": 3
   },
   "file_extension": ".py",
   "mimetype": "text/x-python",
   "name": "python",
   "nbconvert_exporter": "python",
   "pygments_lexer": "ipython3",
   "version": "3.8.0"
  },
  "orig_nbformat": 4
 },
 "nbformat": 4,
 "nbformat_minor": 2
}
